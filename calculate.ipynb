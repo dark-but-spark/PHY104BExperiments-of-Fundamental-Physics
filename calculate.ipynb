{
 "cells": [
  {
   "cell_type": "code",
   "execution_count": 8,
   "metadata": {},
   "outputs": [],
   "source": [
    "import pandas as pd\n",
    "import numpy as np\n",
    "import math\n",
    "import matplotlib\n",
    "import matplotlib.pyplot as plt\n",
    "import os\n",
    "matplotlib.rcParams['font.sans-serif'] = ['SimHei'] # 用黑体显示中文\n",
    "def toMarkdown(s):\n",
    "    l=s.split('e')\n",
    "    return l[0]+'\\times10^{'+l[1]+'}'"
   ]
  },
  {
   "cell_type": "markdown",
   "metadata": {},
   "source": [
    "## 1.单摆测量重力加速度\n",
    "平均数 A类不确定度"
   ]
  },
  {
   "cell_type": "code",
   "execution_count": 6,
   "metadata": {},
   "outputs": [
    {
     "name": "stdout",
     "output_type": "stream",
     "text": [
      "[np.float64(20.016), np.float64(71.96600000000001), np.float64(85.72200000000001)]\n",
      "[np.float64(0.011119999999999764), np.float64(0.05019420683704431), np.float64(0.06302695931108011)]\n"
     ]
    }
   ],
   "source": [
    "df = pd.read_csv('单摆.csv',index_col=0,header=0)\n",
    "a=[0]*3\n",
    "b=[0]*3\n",
    "k=0\n",
    "for i in df.index:\n",
    "    for j in df.columns:\n",
    "        a[k]+=df.loc[i][j]/5.0\n",
    "    k+=1\n",
    "   \n",
    "k=0\n",
    "for i in df.index:\n",
    "    for j in df.columns:\n",
    "        b[k]+=(df.loc[i][j]-a[k])**2/20\n",
    "    k+=1\n",
    "print(a)\n",
    "for i in range(3):\n",
    "    b[i]=b[i]**0.5*2.78\n",
    "print(b)\n",
    "#计算A类不确定度 平均数"
   ]
  },
  {
   "cell_type": "markdown",
   "metadata": {},
   "source": [
    "## 2.时间测量中随机误差的分布规律\n",
    "基础数据"
   ]
  },
  {
   "cell_type": "code",
   "execution_count": 7,
   "metadata": {},
   "outputs": [
    {
     "name": "stdout",
     "output_type": "stream",
     "text": [
      "平均值: 3.0937999999999994\n",
      "最大值: 3.48\n",
      "最小值: 2.76\n",
      "方差: 0.01828498492462312\n",
      "标准差: 0.13522198388066609\n",
      "极差: 0.7200000000000002\n"
     ]
    }
   ],
   "source": [
    "def P(x,a_bar,sigma):\n",
    "    return 1/(math.sqrt(2*math.pi)*sigma)*math.exp(-(x-a_bar)**2/(2*(sigma**2)))\n",
    "\n",
    "f=open('时间.in','r')\n",
    "n=200\n",
    "a=[0]*(n+10)\n",
    "mn=10\n",
    "mx=0\n",
    "a_bar=0\n",
    "for i in range(1,n+1):\n",
    "    a[i]=float(f.readline())\n",
    "    mn=min(a[i],mn)\n",
    "    mx=max(a[i],mx)\n",
    "    a_bar+=a[i]/n\n",
    "print('平均值:',a_bar)\n",
    "print('最大值:',mx)\n",
    "print('最小值:',mn)\n",
    "sigma=sum([(a[i]-a_bar)**2 for i in range(1,n+1)])/(n-1)\n",
    "sigma=sigma**0.5\n",
    "print('方差:',sum([(a[i]-a_bar)**2 for i in range(1,n+1)])/(n-1))\n",
    "print('标准差:',sigma)\n",
    "print('极差:',mx-mn)\n"
   ]
  },
  {
   "cell_type": "markdown",
   "metadata": {},
   "source": [
    "计算分段 统计频率"
   ]
  },
  {
   "cell_type": "code",
   "execution_count": null,
   "metadata": {},
   "outputs": [
    {
     "name": "stdout",
     "output_type": "stream",
     "text": [
      "[ 2.76 , 2.82 ],( 2.82 , 2.88 ],( 2.88 , 2.94 ],( 2.94 , 3.00 ],( 3.00 , 3.06 ],( 3.06 , 3.12 ],( 3.12 , 3.18 ],( 3.18 , 3.24 ],( 3.24 , 3.30 ],( 3.30 , 3.36 ],( 3.36 , 3.42 ],( 3.42 , 3.48 ],( 3.48 , 3.54 ],|$( 2.76 , 2.82 ]$|$ 3 $|$ 0.01 $|$ 0.25 $|$ 0.24 $|\n",
      "|$( 2.82 , 2.88 ]$|$ 2 $|$ 0.01 $|$ 0.17 $|$ 0.58 $|\n",
      "|$( 2.88 , 2.94 ]$|$ 14 $|$ 0.07 $|$ 1.17 $|$ 1.17 $|\n",
      "|$( 2.94 , 3.00 ]$|$ 16 $|$ 0.08 $|$ 1.33 $|$ 1.94 $|\n",
      "|$( 3.00 , 3.06 ]$|$ 19 $|$ 0.10 $|$ 1.58 $|$ 2.64 $|\n",
      "|$( 3.06 , 3.12 ]$|$ 16 $|$ 0.08 $|$ 1.33 $|$ 2.95 $|\n",
      "|$( 3.12 , 3.18 ]$|$ 21 $|$ 0.10 $|$ 1.75 $|$ 2.71 $|\n",
      "|$( 3.18 , 3.24 ]$|$ 18 $|$ 0.09 $|$ 1.50 $|$ 2.04 $|\n",
      "|$( 3.24 , 3.30 ]$|$ 22 $|$ 0.11 $|$ 1.83 $|$ 1.26 $|\n",
      "|$( 3.30 , 3.36 ]$|$ 5 $|$ 0.03 $|$ 0.42 $|$ 0.64 $|\n",
      "|$( 3.36 , 3.42 ]$|$ 2 $|$ 0.01 $|$ 0.17 $|$ 0.27 $|\n",
      "|$( 3.42 , 3.48 ]$|$ 3 $|$ 0.01 $|$ 0.25 $|$ 0.09 $|\n"
     ]
    }
   ],
   "source": [
    "# pf=pd.DataFrame(a[1:n+1])\n",
    "b=[0]*14\n",
    "b[0]=2.76+0.03\n",
    "print(\"[\",toMarkdown(format(b[0]-0.03,'.2f'),\",\",toMarkdown(format(b[0]+0.03,'.2f'),'],',end='')\n",
    "for i in range(1,13):\n",
    "    b[i]=b[i-1]+0.06\n",
    "    print(\"(\",toMarkdown(format(b[i]-0.03,'.2f'),\",\",toMarkdown(format(b[i]+0.03,'.2f'),'],',end='')\n",
    "\n",
    "cnt=[0]*14\n",
    "p=[0]*14\n",
    "sigm=[0]*4\n",
    "for i in range(1,n+1):\n",
    "    for j in range(12):\n",
    "        if b[j]-0.03<a[i]<=b[j]+0.03:\n",
    "            cnt[j]+=1\n",
    "        if b[j]-0.03==a[i] and j==0:\n",
    "            cnt[j]+=1\n",
    "\n",
    "for i in range(12):#下一行输出markdown表格格式\n",
    "    print(\"|$(\",toMarkdown(format(b[i]-0.03,'.2f'),\",\",toMarkdown(format(b[i]+0.03,'.2f'),']$|$',\n",
    "          cnt[i],'$|$',toMarkdown(format(cnt[i]/n,'.2f'),'$|$',toMarkdown(format(cnt[i]/(n*0.06),'.2f'),\n",
    "          '$|$',toMarkdown(format(P(b[i],a_bar,sigma),'.2f'),'$|')\n",
    "\n",
    "f.close()\n",
    "\n"
   ]
  },
  {
   "cell_type": "markdown",
   "metadata": {},
   "source": [
    "统计$\\sigma$分布"
   ]
  },
  {
   "cell_type": "code",
   "execution_count": 9,
   "metadata": {},
   "outputs": [
    {
     "name": "stdout",
     "output_type": "stream",
     "text": [
      "1 133 0.665\n",
      "2 191 0.955\n",
      "3 200 1.0\n",
      "A类不确定度: 0.01874081082643333\n"
     ]
    }
   ],
   "source": [
    "for i in range(12):\n",
    "    cnt[i]=cnt[i]/(n*0.06)\n",
    "    p[i]=P(b[i],a_bar,sigma)\n",
    "for i in range(1,n+1):\n",
    "    for j in range(1,4):\n",
    "        if(abs(a[i]-a_bar)<=j*sigma):\n",
    "            sigm[j]+=1\n",
    "for i in range(1,4):\n",
    "    print(i,sigm[i],sigm[i]/n)\n",
    "print('A类不确定度:',sigma*1.96/(n**0.5))\n",
    "#pf.to_csv('时间.csv')\n"
   ]
  },
  {
   "cell_type": "markdown",
   "metadata": {},
   "source": [
    "画图"
   ]
  },
  {
   "cell_type": "code",
   "execution_count": 10,
   "metadata": {},
   "outputs": [
    {
     "data": {
      "image/png": "[encoded data removed]",
      "text/plain": [
       "<Figure size 640x480 with 1 Axes>"
      ]
     },
     "metadata": {},
     "output_type": "display_data"
    }
   ],
   "source": [
    "plt.bar(b[0:12],cnt[0:12],width=0.05)\n",
    "plt.plot(b[0:12],p[0:12],color='red',label='正态分布曲线',marker='*')\n",
    "plt.xlabel('时间/s')\n",
    "plt.ylabel('概率密度/s^-1')\n",
    "plt.title('概率密度直方图与正态分布曲线的对比')\n",
    "plt.legend()\n",
    "plt.show()"
   ]
  },
  {
   "cell_type": "markdown",
   "metadata": {},
   "source": [
    "## 3.密立根油滴实验\n",
    "\n",
    "\n",
    "基础数据处理"
   ]
  },
  {
   "cell_type": "code",
   "execution_count": null,
   "metadata": {},
   "outputs": [
    {
     "name": "stdout",
     "output_type": "stream",
     "text": [
      "['170', '20.5', '20.5', '20.6']\n",
      "|$ 1 $|$ 170.0 $|$ 20.5 $|$ 20.5 $|$ 20.6 $|$ 2.05e+01 $|\n",
      "['180', '17.5', '17.5', '17.6']\n",
      "|$ 2 $|$ 180.0 $|$ 17.5 $|$ 17.5 $|$ 17.6 $|$ 1.75e+01 $|\n",
      "['191', '16.4', '16.7', '16.6']\n",
      "|$ 3 $|$ 191.0 $|$ 16.4 $|$ 16.7 $|$ 16.6 $|$ 1.66e+01 $|\n",
      "['200', '15.5', '15.5', '15.6']\n",
      "|$ 4 $|$ 200.0 $|$ 15.5 $|$ 15.5 $|$ 15.6 $|$ 1.55e+01 $|\n",
      "['210', '14.7', '14.7', '14.8']\n",
      "|$ 5 $|$ 210.0 $|$ 14.7 $|$ 14.7 $|$ 14.8 $|$ 1.47e+01 $|\n",
      "=\\frac{1.022\\times 10^{-14}}{ 1.70e+02 \\times[(1+0.02193\\sqrt{ 2.05e+01 }) 2.05e+01 ]^{3 \\over 2}}= 5.61e-19\n",
      "=[\\frac{ 5.61e-19 }{ 1.60e-19 }]\\approx 3.00e+00\n",
      "=\\frac{ 5.61e-19 }{ 3.00e+00 }= 1.87e-19\n",
      "=\\frac{1.022\\times 10^{-14}}{ 1.80e+02 \\times[(1+0.02193\\sqrt{ 1.75e+01 }) 1.75e+01 ]^{3 \\over 2}}= 6.78e-19\n",
      "=[\\frac{ 6.78e-19 }{ 1.60e-19 }]\\approx 4.00e+00\n",
      "=\\frac{ 6.78e-19 }{ 4.00e+00 }= 1.69e-19\n",
      "=\\frac{1.022\\times 10^{-14}}{ 1.91e+02 \\times[(1+0.02193\\sqrt{ 1.66e+01 }) 1.66e+01 ]^{3 \\over 2}}= 6.98e-19\n",
      "=[\\frac{ 6.98e-19 }{ 1.60e-19 }]\\approx 4.00e+00\n",
      "=\\frac{ 6.98e-19 }{ 4.00e+00 }= 1.75e-19\n",
      "=\\frac{1.022\\times 10^{-14}}{ 2.00e+02 \\times[(1+0.02193\\sqrt{ 1.55e+01 }) 1.55e+01 ]^{3 \\over 2}}= 7.37e-19\n",
      "=[\\frac{ 7.37e-19 }{ 1.60e-19 }]\\approx 5.00e+00\n",
      "=\\frac{ 7.37e-19 }{ 5.00e+00 }= 1.47e-19\n",
      "=\\frac{1.022\\times 10^{-14}}{ 2.10e+02 \\times[(1+0.02193\\sqrt{ 1.47e+01 }) 1.47e+01 ]^{3 \\over 2}}= 7.62e-19\n",
      "=[\\frac{ 7.62e-19 }{ 1.60e-19 }]\\approx 5.00e+00\n",
      "=\\frac{ 7.62e-19 }{ 5.00e+00 }= 1.52e-19\n",
      "平均值: 1.6613908104069386e-19\n",
      "误差 3.7072915360136474 %\n"
     ]
    }
   ],
   "source": [
    "f=open('密立根.in','r')\n",
    "n=5\n",
    "t=[0]*(n+10)\n",
    "U=[0]*(n+10)\n",
    "for i in range(1,n+1):\n",
    "    s=f.readline().split()\n",
    "    print(s)\n",
    "    U[i]=float(s[0])\n",
    "    t[i]=float(s[1])+float(s[2])+float(s[3])\n",
    "    t[i]=t[i]/3.0\n",
    "    print(\"|$\",i,\"$|$\",U[i],\"$|$\",s[1],\"$|$\",s[2],\"$|$\",s[3],\"$|$\",toMarkdown(toMarkdown(format(t[i],'.2e'),\"$|\")\n",
    "f.close()\n",
    "e0=1.602e-19\n",
    "q=[0]*(n+10)\n",
    "m=[0]*(n+10)\n",
    "e=[0]*(n+10)\n",
    "e_bar=0\n",
    "for i in range(1,n+1):\n",
    "    q[i]=1.022e-14/(U[i]*((1+0.02193*t[i]**0.5)*t[i])**1.5)\n",
    "    m[i]=round(q[i]/e0)\n",
    "    e[i]=q[i]/m[i]\n",
    "    e_bar+=e[i]\n",
    "    print(\"=\\\\frac{1.022\\\\times 10^{-14}}{\",toMarkdown(toMarkdown(format(U[i],'.2e'),\"\\\\times[(1+0.02193\\\\sqrt{\",toMarkdown(format(t[i],'.2e'),\"})\",toMarkdown(toMarkdown(format(t[i],'.2e'),\"]^{3 \\\\over 2}}=\",toMarkdown(toMarkdown(format(q[i],'.2e'))\n",
    "    print(\"=[\\\\frac{\",toMarkdown(toMarkdown(format(q[i],'.2e')),\"}{\",toMarkdown(format(e0,'.2e'),\"}]\\\\approx\",toMarkdown(format(m[i],'.2e'))\n",
    "    print(\"=\\\\frac{\",toMarkdown(toMarkdown(format(q[i],'.2e')),\"}{\",toMarkdown(format(m[i],'.2e'),\"}=\",toMarkdown(format(e[i],'.2e'))\n",
    "e_bar=e_bar/n\n",
    "print('平均值:',e_bar)\n",
    "print('误差',abs(e_bar-e0)/e0*100,'%')"
   ]
  }
 ],
 "metadata": {
  "kernelspec": {
   "display_name": "base",
   "language": "python",
   "name": "python3"
  },
  "language_info": {
   "codemirror_mode": {
    "name": "ipython",
    "version": 3
   },
   "file_extension": ".py",
   "mimetype": "text/x-python",
   "name": "python",
   "nbconvert_exporter": "python",
   "pygments_lexer": "ipython3",
   "version": "3.12.7"
  }
 },
 "nbformat": 4,
 "nbformat_minor": 2
}
