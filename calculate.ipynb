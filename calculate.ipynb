{
 "cells": [
  {
   "cell_type": "markdown",
   "metadata": {},
   "source": [
    "## start"
   ]
  },
  {
   "cell_type": "code",
   "execution_count": 2,
   "metadata": {},
   "outputs": [],
   "source": [
    "import pandas as pd\n",
    "import numpy as np\n",
    "import math\n",
    "import matplotlib\n",
    "import matplotlib.pyplot as plt\n",
    "import os\n",
    "matplotlib.rcParams['font.sans-serif'] = ['SimHei'] # 用黑体显示中文\n",
    "def toMarkdown(x):\n",
    "    s=format(x,'.5e')\n",
    "    l=s.split('e')\n",
    "    l[1]=str(int(l[1]))\n",
    "    return l[0]+'\\\\times10^{'+l[1]+'}'"
   ]
  },
  {
   "cell_type": "markdown",
   "metadata": {},
   "source": [
    "## 1.单摆测量重力加速度\n",
    "平均数 A类不确定度"
   ]
  },
  {
   "cell_type": "code",
   "execution_count": 3,
   "metadata": {},
   "outputs": [
    {
     "name": "stdout",
     "output_type": "stream",
     "text": [
      "[np.float64(20.016), np.float64(71.96600000000001), np.float64(85.72200000000001)]\n",
      "[np.float64(0.011119999999999764), np.float64(0.05019420683704431), np.float64(0.06302695931108011)]\n"
     ]
    }
   ],
   "source": [
    "df = pd.read_csv('单摆.csv',index_col=0,header=0)\n",
    "a=[0]*3\n",
    "b=[0]*3\n",
    "k=0\n",
    "for i in df.index:\n",
    "    for j in df.columns:\n",
    "        a[k]+=df.loc[i][j]/5.0\n",
    "    k+=1\n",
    "   \n",
    "k=0\n",
    "for i in df.index:\n",
    "    for j in df.columns:\n",
    "        b[k]+=(df.loc[i][j]-a[k])**2/20\n",
    "    k+=1\n",
    "print(a)\n",
    "for i in range(3):\n",
    "    b[i]=b[i]**0.5*2.78\n",
    "print(b)\n",
    "#计算A类不确定度 平均数"
   ]
  },
  {
   "cell_type": "markdown",
   "metadata": {},
   "source": [
    "## 2.时间测量中随机误差的分布规律\n",
    "##### 基础数据"
   ]
  },
  {
   "cell_type": "code",
   "execution_count": 4,
   "metadata": {},
   "outputs": [
    {
     "name": "stdout",
     "output_type": "stream",
     "text": [
      "平均值: 3.0937999999999994\n",
      "最大值: 3.48\n",
      "最小值: 2.76\n",
      "方差: 0.01828498492462312\n",
      "标准差: 0.13522198388066609\n",
      "极差: 0.7200000000000002\n"
     ]
    }
   ],
   "source": [
    "def P(x,a_bar,sigma):\n",
    "    return 1/(math.sqrt(2*math.pi)*sigma)*math.exp(-(x-a_bar)**2/(2*(sigma**2)))\n",
    "\n",
    "f=open('时间.in','r')\n",
    "n=200\n",
    "a=[0]*(n+10)\n",
    "mn=10\n",
    "mx=0\n",
    "a_bar=0\n",
    "for i in range(1,n+1):\n",
    "    a[i]=float(f.readline())\n",
    "    mn=min(a[i],mn)\n",
    "    mx=max(a[i],mx)\n",
    "    a_bar+=a[i]/n\n",
    "print('平均值:',a_bar)\n",
    "print('最大值:',mx)\n",
    "print('最小值:',mn)\n",
    "sigma=sum([(a[i]-a_bar)**2 for i in range(1,n+1)])/(n-1)\n",
    "sigma=sigma**0.5\n",
    "print('方差:',sum([(a[i]-a_bar)**2 for i in range(1,n+1)])/(n-1))\n",
    "print('标准差:',sigma)\n",
    "print('极差:',mx-mn)\n"
   ]
  },
  {
   "cell_type": "markdown",
   "metadata": {},
   "source": [
    "##### 计算分段 统计频率"
   ]
  },
  {
   "cell_type": "code",
   "execution_count": 5,
   "metadata": {},
   "outputs": [
    {
     "name": "stdout",
     "output_type": "stream",
     "text": [
      "[ 2.76 , 2.82 ],( 2.82 , 2.88 ],( 2.88 , 2.94 ],( 2.94 , 3.00 ],( 3.00 , 3.06 ],( 3.06 , 3.12 ],( 3.12 , 3.18 ],( 3.18 , 3.24 ],( 3.24 , 3.30 ],( 3.30 , 3.36 ],( 3.36 , 3.42 ],( 3.42 , 3.48 ],( 3.48 , 3.54 ],|$( 2.76 , 2.82 ]$|$ 3 $|$ 0.01 $|$ 0.25 $|$ 0.24 $|\n",
      "|$( 2.82 , 2.88 ]$|$ 2 $|$ 0.01 $|$ 0.17 $|$ 0.58 $|\n",
      "|$( 2.88 , 2.94 ]$|$ 14 $|$ 0.07 $|$ 1.17 $|$ 1.17 $|\n",
      "|$( 2.94 , 3.00 ]$|$ 16 $|$ 0.08 $|$ 1.33 $|$ 1.94 $|\n",
      "|$( 3.00 , 3.06 ]$|$ 19 $|$ 0.10 $|$ 1.58 $|$ 2.64 $|\n",
      "|$( 3.06 , 3.12 ]$|$ 16 $|$ 0.08 $|$ 1.33 $|$ 2.95 $|\n",
      "|$( 3.12 , 3.18 ]$|$ 21 $|$ 0.10 $|$ 1.75 $|$ 2.71 $|\n",
      "|$( 3.18 , 3.24 ]$|$ 18 $|$ 0.09 $|$ 1.50 $|$ 2.04 $|\n",
      "|$( 3.24 , 3.30 ]$|$ 22 $|$ 0.11 $|$ 1.83 $|$ 1.26 $|\n",
      "|$( 3.30 , 3.36 ]$|$ 5 $|$ 0.03 $|$ 0.42 $|$ 0.64 $|\n",
      "|$( 3.36 , 3.42 ]$|$ 2 $|$ 0.01 $|$ 0.17 $|$ 0.27 $|\n",
      "|$( 3.42 , 3.48 ]$|$ 3 $|$ 0.01 $|$ 0.25 $|$ 0.09 $|\n"
     ]
    }
   ],
   "source": [
    "# pf=pd.DataFrame(a[1:n+1])\n",
    "b=[0]*14\n",
    "b[0]=2.76+0.03\n",
    "print(\"[\",format(b[0]-0.03,'.2f'),\",\",format(b[0]+0.03,'.2f'),'],',end='')\n",
    "for i in range(1,13):\n",
    "    b[i]=b[i-1]+0.06\n",
    "    print(\"(\",format(b[i]-0.03,'.2f'),\",\",format(b[i]+0.03,'.2f'),'],',end='')\n",
    "\n",
    "cnt=[0]*14\n",
    "p=[0]*14\n",
    "sigm=[0]*4\n",
    "for i in range(1,n+1):\n",
    "    for j in range(12):\n",
    "        if b[j]-0.03<a[i]<=b[j]+0.03:\n",
    "            cnt[j]+=1\n",
    "        if b[j]-0.03==a[i] and j==0:\n",
    "            cnt[j]+=1\n",
    "\n",
    "for i in range(12):#下一行输出markdown表格格式\n",
    "    print(\"|$(\",format(b[i]-0.03,'.2f'),\",\",format(b[i]+0.03,'.2f'),']$|$',\n",
    "          cnt[i],'$|$',format(cnt[i]/n,'.2f'),'$|$',format(cnt[i]/(n*0.06),'.2f'),\n",
    "          '$|$',format(P(b[i],a_bar,sigma),'.2f'),'$|')\n",
    "\n",
    "f.close()\n",
    "\n"
   ]
  },
  {
   "cell_type": "markdown",
   "metadata": {},
   "source": [
    "##### 统计$\\sigma$分布"
   ]
  },
  {
   "cell_type": "code",
   "execution_count": 6,
   "metadata": {},
   "outputs": [
    {
     "name": "stdout",
     "output_type": "stream",
     "text": [
      "1 133 0.665\n",
      "2 191 0.955\n",
      "3 200 1.0\n",
      "A类不确定度: 0.01874081082643333\n"
     ]
    }
   ],
   "source": [
    "for i in range(12):\n",
    "    cnt[i]=cnt[i]/(n*0.06)\n",
    "    p[i]=P(b[i],a_bar,sigma)\n",
    "for i in range(1,n+1):\n",
    "    for j in range(1,4):\n",
    "        if(abs(a[i]-a_bar)<=j*sigma):\n",
    "            sigm[j]+=1\n",
    "for i in range(1,4):\n",
    "    print(i,sigm[i],sigm[i]/n)\n",
    "print('A类不确定度:',sigma*1.96/(n**0.5))\n",
    "#pf.to_csv('时间.csv')\n"
   ]
  },
  {
   "cell_type": "markdown",
   "metadata": {},
   "source": [
    "##### 画图"
   ]
  },
  {
   "cell_type": "code",
   "execution_count": 7,
   "metadata": {},
   "outputs": [
    {
     "data": {
      "image/png": "[encoded data removed]",
      "text/plain": [
       "<Figure size 640x480 with 1 Axes>"
      ]
     },
     "metadata": {},
     "output_type": "display_data"
    }
   ],
   "source": [
    "plt.bar(b[0:12],cnt[0:12],width=0.05)\n",
    "plt.plot(b[0:12],p[0:12],color='red',label='正态分布曲线',marker='*')\n",
    "plt.xlabel('时间/s')\n",
    "plt.ylabel('概率密度/s^-1')\n",
    "plt.title('概率密度直方图与正态分布曲线的对比')\n",
    "plt.legend()\n",
    "plt.show()"
   ]
  },
  {
   "cell_type": "markdown",
   "metadata": {},
   "source": [
    "## 3.密立根油滴实验\n",
    "\n",
    "\n",
    "##### 基础数据处理"
   ]
  },
  {
   "cell_type": "code",
   "execution_count": 8,
   "metadata": {},
   "outputs": [
    {
     "name": "stdout",
     "output_type": "stream",
     "text": [
      "|$ 1 $|$ 129.0 $|$ 4 $|$ 4.28 $|$ 4.12 $|$ 4.13 $|\n",
      "|$ 2 $|$ 98.0 $|$ 13.4 $|$ 13.58 $|$ 13.31 $|$ 13.43 $|\n",
      "|$ 3 $|$ 152.0 $|$ 14.68 $|$ 14.61 $|$ 14.46 $|$ 14.58 $|\n",
      "|$ 4 $|$ 147.0 $|$ 14.86 $|$ 15.44 $|$ 15.25 $|$ 15.18 $|\n",
      "|$ 5 $|$ 83.0 $|$ 31.51 $|$ 32.45 $|$ 31.34 $|$ 31.77 $|\n"
     ]
    }
   ],
   "source": [
    "f=open('密立根.in','r')\n",
    "n=5\n",
    "t=[0]*(n+10)\n",
    "U=[0]*(n+10)\n",
    "for i in range(1,n+1):\n",
    "    s=f.readline().split()\n",
    "    # print(s)\n",
    "    U[i]=float(s[0])\n",
    "    t[i]=float(s[1])+float(s[2])+float(s[3])\n",
    "    t[i]=t[i]/3.0\n",
    "    print(\"|$\",i,\"$|$\",U[i],\"$|$\",s[1],\"$|$\",s[2],\"$|$\",s[3],\"$|$\",format(t[i],'.2f'),\"$|\")\n",
    "f.close()"
   ]
  },
  {
   "cell_type": "markdown",
   "metadata": {},
   "source": [
    "##### 计算元电荷"
   ]
  },
  {
   "cell_type": "code",
   "execution_count": 9,
   "metadata": {},
   "outputs": [
    {
     "name": "stdout",
     "output_type": "stream",
     "text": [
      "=\\frac{1.022\\times 10^{-14}}{ 129.00 \\times[(1+0.02193\\sqrt{ 4.13 }) 4.13 ]^{3 \\over 2}}= 8.83069\\times10^{-18}\n",
      "=[\\frac{ 8.83069\\times10^{-18} }{ 1.60200\\times10^{-19} }]\\approx 55\n",
      "=\\frac{ 8.83069\\times10^{-18} }{ 55 }= 1.60558\\times10^{-19}\n",
      "=\\frac{1.022\\times 10^{-14}}{ 98.00 \\times[(1+0.02193\\sqrt{ 13.43 }) 13.43 ]^{3 \\over 2}}= 1.88692\\times10^{-18}\n",
      "=[\\frac{ 1.88692\\times10^{-18} }{ 1.60200\\times10^{-19} }]\\approx 12\n",
      "=\\frac{ 1.88692\\times10^{-18} }{ 12 }= 1.57244\\times10^{-19}\n",
      "=\\frac{1.022\\times 10^{-14}}{ 152.00 \\times[(1+0.02193\\sqrt{ 14.58 }) 14.58 ]^{3 \\over 2}}= 1.07012\\times10^{-18}\n",
      "=[\\frac{ 1.07012\\times10^{-18} }{ 1.60200\\times10^{-19} }]\\approx 7\n",
      "=\\frac{ 1.07012\\times10^{-18} }{ 7 }= 1.52874\\times10^{-19}\n",
      "=\\frac{1.022\\times 10^{-14}}{ 147.00 \\times[(1+0.02193\\sqrt{ 15.18 }) 15.18 ]^{3 \\over 2}}= 1.03912\\times10^{-18}\n",
      "=[\\frac{ 1.03912\\times10^{-18} }{ 1.60200\\times10^{-19} }]\\approx 6\n",
      "=\\frac{ 1.03912\\times10^{-18} }{ 6 }= 1.73187\\times10^{-19}\n",
      "=\\frac{1.022\\times 10^{-14}}{ 83.00 \\times[(1+0.02193\\sqrt{ 31.77 }) 31.77 ]^{3 \\over 2}}= 5.77427\\times10^{-19}\n",
      "=[\\frac{ 5.77427\\times10^{-19} }{ 1.60200\\times10^{-19} }]\\approx 4\n",
      "=\\frac{ 5.77427\\times10^{-19} }{ 4 }= 1.44357\\times10^{-19}\n",
      "1.60558\\times10^{-19} +\n",
      "1.57244\\times10^{-19} +\n",
      "1.52874\\times10^{-19} +\n",
      "1.73187\\times10^{-19} +\n",
      "1.44357\\times10^{-19} +\n",
      "平均值: 1.5764379434809535e-19\n",
      "E=\\frac{| 1.57644\\times10^{-19} - 1.60200\\times10^{-19} |}{ 1.60200\\times10^{-19} } \\times 100 \\%= 1.595633989952967 %\n",
      "误差 1.595633989952967 %\n"
     ]
    }
   ],
   "source": [
    "e0=1.602e-19\n",
    "q=[0]*(n+10)\n",
    "m=[0]*(n+10)\n",
    "e=[0]*(n+10)\n",
    "e_bar=0\n",
    "for i in range(1,n+1):\n",
    "    q[i]=1.022e-14/(U[i]*((1+0.02193*t[i]**0.5)*t[i])**1.5)\n",
    "    m[i]=round(q[i]/e0)\n",
    "    e[i]=q[i]/m[i]\n",
    "    e_bar+=e[i]\n",
    "    print(\"=\\\\frac{1.022\\\\times 10^{-14}}{\",format(U[i],'.2f'),\"\\\\times[(1+0.02193\\\\sqrt{\",format(t[i],'.2f'),\"})\",format(t[i],'.2f'),\"]^{3 \\\\over 2}}=\",toMarkdown((q[i])))\n",
    "    print(\"=[\\\\frac{\",toMarkdown((q[i])),\"}{\",toMarkdown((e0)),\"}]\\\\approx\",m[i])\n",
    "    print(\"=\\\\frac{\",toMarkdown((q[i])),\"}{\",m[i],\"}=\",toMarkdown((e[i])))\n",
    "e_bar=e_bar/n\n",
    "for i in range(1,n+1):\n",
    "    print(toMarkdown((e[i])),\"+\")\n",
    "print('平均值:',e_bar)\n",
    "print(\"E=\\\\frac{|\",toMarkdown((e_bar)),\"-\",toMarkdown((e0)),\"|}{\",toMarkdown((e0)),\"} \\\\times 100 \\\\%=\",abs(e_bar-e0)/e0*100,'%')\n",
    "print('误差',abs(e_bar-e0)/e0*100,'%')"
   ]
  },
  {
   "cell_type": "markdown",
   "metadata": {},
   "source": []
  },
  {
   "cell_type": "markdown",
   "metadata": {},
   "source": [
    "##### 非markdown格式输出部分"
   ]
  },
  {
   "cell_type": "code",
   "execution_count": 10,
   "metadata": {},
   "outputs": [
    {
     "name": "stdout",
     "output_type": "stream",
     "text": [
      "1   4.133333333333334   129.0   8.830694433016935e-18   55   1.605580806003079e-19\n",
      "2   13.43   98.0   1.88692205538989e-18   12   1.5724350461582417e-19\n",
      "3   14.583333333333334   152.0   1.0701151176860556e-18   7   1.528735882408651e-19\n",
      "4   15.183333333333332   147.0   1.0391229595911427e-18   6   1.7318715993185712e-19\n",
      "5   31.76666666666667   83.0   5.774265534064899e-19   4   1.4435663835162248e-19\n"
     ]
    }
   ],
   "source": [
    "for i in range(1,n+1):\n",
    "    print(i,' ',t[i],' ',U[i],' ',q[i],' ',m[i],' ',e[i])"
   ]
  },
  {
   "cell_type": "markdown",
   "metadata": {},
   "source": [
    "##### 快速计算器"
   ]
  },
  {
   "cell_type": "code",
   "execution_count": 11,
   "metadata": {},
   "outputs": [],
   "source": [
    "# i=6\n",
    "#  U[i]=float(input('输入电压:'))\n",
    "#  t[i]=float(input('输入时间:'))\n",
    "# q[i]=1.022e-14/(U[i]*((1+0.02193*t[i]**0.5)*t[i])**1.5)\n",
    "# m[i]=round(q[i]/e0)\n",
    "# e[i]=q[i]/m[i]\n",
    "# print(i,' ',t[i],' ',U[i],' ',q[i],' ',m[i],' ',e[i])"
   ]
  },
  {
   "cell_type": "markdown",
   "metadata": {},
   "source": [
    "# 氢氘光谱\n",
    "##### 基础数据处理\n"
   ]
  },
  {
   "cell_type": "code",
   "execution_count": 12,
   "metadata": {},
   "outputs": [
    {
     "name": "stdout",
     "output_type": "stream",
     "text": [
      "$ 364.85 $|$ 365.30 $|$ 366.10 $|$ 404.65 $|$ 407.65 $|$ 435.90 $|$ 546.50 $|$ 577.45 $|$ 579.60 $|\n",
      "$ 365.02 $|$ 365.48 $|$ 366.30 $|$ 404.66 $|$ 407.78 $|$ 435.84 $|$ 546.07 $|$ 576.96 $|$ 579.07 $|\n",
      "$ 657.63 $|$ 486.33 $|$ 434.07 $|\n",
      "$ 657.44 $|$ 486.21 $|$ 433.95 $|\n"
     ]
    }
   ],
   "source": [
    "f=open('氢氘.in','r')\n",
    "n=9\n",
    "Hg=[0]*(n+10)\n",
    "HgTrue=[0]*(n+10)\n",
    "s=f.readline().split()\n",
    "for i in range(1,10):\n",
    "    Hg[i]=float(s[i-1])\n",
    "    print(\"$\",format(Hg[i],\".2f\"),\"$|\",end='')\n",
    "print()\n",
    "s=f.readline().split()\n",
    "for i in range(1,10):\n",
    "    HgTrue[i]=float(s[i-1])\n",
    "    print(\"$\",format(HgTrue[i],\".2f\"),\"$|\",end='')\n",
    "print()\n",
    "H=[0]*(n+10)\n",
    "D=[0]*(n+10)\n",
    "\n",
    "s=f.readline().split()\n",
    "for i in range(3,6):\n",
    "    H[i]=float(s[i-3])\n",
    "    print(\"$\",format(H[i],\".2f\"),\"$|\",end='')\n",
    "print()\n",
    "s=f.readline().split()\n",
    "for i in range(3,6):\n",
    "    D[i]=float(s[i-3])\n",
    "    print(\"$\",format(D[i],\".2f\"),\"$|\",end='')\n",
    "print()\n",
    "f.close()"
   ]
  },
  {
   "cell_type": "markdown",
   "metadata": {},
   "source": [
    "##### 计算拟合修正公式"
   ]
  },
  {
   "cell_type": "code",
   "execution_count": 13,
   "metadata": {},
   "outputs": [
    {
     "name": "stdout",
     "output_type": "stream",
     "text": [
      "1.3963 + 0.9967 \\lambda_{Hg}^0\n"
     ]
    },
    {
     "data": {
      "image/png": "[encoded data removed]",
      "text/plain": [
       "<Figure size 640x480 with 1 Axes>"
      ]
     },
     "metadata": {},
     "output_type": "display_data"
    }
   ],
   "source": [
    "beta,apha= np.polyfit(Hg[1:10],HgTrue[1:10], 1)\n",
    "print(format(apha,'.4f'),'+',format(beta,'.4f'),'\\\\lambda_{Hg}^0')\n",
    "plt.scatter(Hg[1:10],HgTrue[1:10],label='Hg',color='red')\n",
    "plt.plot(Hg[1:10],[apha+beta*i for i in Hg[1:10]], color='black', label='Hg拟合线')\n",
    "plt.legend()\n",
    "plt.xlabel('Hg光谱线波长/nm')\n",
    "plt.ylabel('Hg真实波长/nm')\n",
    "plt.title('Hg波长的拟合修正')\n",
    "plt.show()"
   ]
  },
  {
   "cell_type": "markdown",
   "metadata": {},
   "source": [
    "##### 修正$\\lambda$"
   ]
  },
  {
   "cell_type": "code",
   "execution_count": 14,
   "metadata": {},
   "outputs": [
    {
     "name": "stdout",
     "output_type": "stream",
     "text": [
      "1.3963 + 0.9967 \\times 657.63 = 656.85\n",
      "1.3963 + 0.9967 \\times 486.33 = 486.12\n",
      "1.3963 + 0.9967 \\times 434.07 = 434.03\n",
      "1.3963 + 0.9967 \\times 657.44 = 656.66\n",
      "1.3963 + 0.9967 \\times 486.21 = 486.00\n",
      "1.3963 + 0.9967 \\times 433.95 = 433.91\n"
     ]
    }
   ],
   "source": [
    "for i in range(3,6):\n",
    "    print(format(apha,'.4f'),'+',format(beta,'.4f'),'\\\\times',format(H[i],'.2f'),'=',format(apha+beta*H[i],'.2f'))\n",
    "    H[i]=apha+beta*H[i]\n",
    "for i in range(3,6):\n",
    "    print(format(apha,'.4f'),'+',format(beta,'.4f'),'\\\\times',format(D[i],'.2f'),'=',format(apha+beta*D[i],'.2f'))\n",
    "    D[i]=apha+beta*D[i]\n"
   ]
  },
  {
   "cell_type": "markdown",
   "metadata": {},
   "source": [
    "##### 计算$R_H$"
   ]
  },
  {
   "cell_type": "code",
   "execution_count": 15,
   "metadata": {},
   "outputs": [
    {
     "name": "stdout",
     "output_type": "stream",
     "text": [
      "\\frac{1}{ 656.85 nm*(\\frac{1}{2^2}-\\frac{1}{ 3 ^2})}= 10961381.48 m^{-1}\n",
      "\\frac{1}{ 486.12 nm*(\\frac{1}{2^2}-\\frac{1}{ 4 ^2})}= 10971272.89 m^{-1}\n",
      "\\frac{1}{ 434.03 nm*(\\frac{1}{2^2}-\\frac{1}{ 5 ^2})}= 10971351.28 m^{-1}\n",
      "\\frac{10961381.48 +10971272.89 +10971351.28 +}{3}=10968001.89 m^{-1}\n"
     ]
    }
   ],
   "source": [
    "RH=[0]*(n+10)\n",
    "RH_bar=0\n",
    "for i in range(3,6):\n",
    "    RH[i]=1/(H[i]*1e-9*(1/2**2-1/i**2))\n",
    "    print(\"\\\\frac{1}{\",format(H[i],\".2f\"),\"nm*(\\\\frac{1}{2^2}-\\\\frac{1}{\",i,\"^2})}=\",format(RH[i],\".2f\"),\"m^{-1}\")\n",
    "print(\"\\\\frac{\",end='')\n",
    "for i in range(3,6):\n",
    "    RH_bar+=RH[i]\n",
    "    print(format(RH[i],\".2f\"),'+',end='')\n",
    "print(\"}{3}=\",end='')\n",
    "RH_bar=RH_bar/3.0\n",
    "print(format(RH_bar,'.2f'),\"m^{-1}\")"
   ]
  },
  {
   "cell_type": "markdown",
   "metadata": {},
   "source": [
    "##### 计算$R_D$"
   ]
  },
  {
   "cell_type": "code",
   "execution_count": 16,
   "metadata": {},
   "outputs": [
    {
     "name": "stdout",
     "output_type": "stream",
     "text": [
      "\\frac{1}{ 656.66 nm*(\\frac{1}{2^2}-\\frac{1}{ 3 ^2})}= 10964542.58 m^{-1}\n",
      "\\frac{1}{ 486.00 nm*(\\frac{1}{2^2}-\\frac{1}{ 4 ^2})}= 10973972.90 m^{-1}\n",
      "\\frac{1}{ 433.91 nm*(\\frac{1}{2^2}-\\frac{1}{ 5 ^2})}= 10974375.42 m^{-1}\n",
      "\\frac{10964542.58 +10973972.90 +10974375.42 +}{3}=10970963.64 m^{-1}\n"
     ]
    }
   ],
   "source": [
    "RD=[0]*(n+10)\n",
    "RD_bar=0\n",
    "for i in range(3,6):\n",
    "    RD[i]=1/(D[i]*1e-9*(1/2**2-1/i**2))\n",
    "    print(\"\\\\frac{1}{\",format(D[i],\".2f\"),\"nm*(\\\\frac{1}{2^2}-\\\\frac{1}{\",i,\"^2})}=\",format(RD[i],\".2f\"),\"m^{-1}\")\n",
    "print(\"\\\\frac{\",end='')\n",
    "for i in range(3,6):\n",
    "    RD_bar+=RD[i]\n",
    "    print(format(RD[i],\".2f\"),'+',end='')\n",
    "print(\"}{3}=\",end='')\n",
    "RD_bar=RD_bar/3.0\n",
    "print(format(RD_bar,'.2f'),\"m^{-1}\")"
   ]
  },
  {
   "cell_type": "markdown",
   "metadata": {},
   "source": [
    "##### 计算${m_D \\over m_H}$\n"
   ]
  },
  {
   "cell_type": "code",
   "execution_count": 17,
   "metadata": {},
   "outputs": [
    {
     "name": "stdout",
     "output_type": "stream",
     "text": [
      "\\frac{\\frac{ 10968001.89 }{ 10970963.64 }}{1-\\frac{ 1.67370\\times10^{-27} }{ 9.10940\\times10^{-31} }(\\frac{ 10970963.64 }{ 10968001.89 }-1)}= 1.98416\\times10^{0}\n"
     ]
    }
   ],
   "source": [
    "m_H=1.6737e-27\n",
    "m_e=9.1094e-31\n",
    "ans=(RH_bar/RD_bar)/(1-m_H/m_e*(RD_bar/RH_bar-1))\n",
    "print(\"\\\\frac{\\\\frac{\",format(RH_bar,\".2f\"),\"}{\",format(RD_bar,\".2f\"),\"}}{1-\\\\frac{\",toMarkdown(m_H),\"}{\",toMarkdown(m_e),\"}(\\\\frac{\",format(RD_bar,\".2f\"),\"}{\",format(RH_bar,\".2f\"),\"}-1)}=\",toMarkdown(ans))"
   ]
  },
  {
   "cell_type": "markdown",
   "metadata": {},
   "source": [
    "# 测量杨氏模量\n",
    "##### 基础处理"
   ]
  },
  {
   "cell_type": "code",
   "execution_count": 18,
   "metadata": {},
   "outputs": [
    {
     "name": "stdout",
     "output_type": "stream",
     "text": [
      "$ 1 .00$|$ 2 .00$|$ 3 .00$|$ 4 .00$|$ 5 .00$|$ 6 .00$|$ 7 .00$|$ 8 .00$|\n",
      "$ 1.50 $|$ 2.19 $|$ 3.10 $|$ 3.78 $|$ 4.45 $|$ 5.09 $|$ 5.76 $|$ 6.41 $|\n",
      "$ 1.85 $|$ 2.59 $|$ 3.29 $|$ 3.91 $|$ 4.56 $|$ 5.19 $|$ 5.79 $|$ 6.41 $|\n",
      "$ 1.68 $|$ 2.39 $|$ 3.20 $|$ 3.84 $|$ 4.50 $|$ 5.14 $|$ 5.78 $|$ 6.41 $|\n",
      "$ 0.60 $|$ 0.60 $|$ 0.60 $|$ 0.60 $|$ 0.60 $|$ 0.61 $|\n",
      "d= 0.6018\n"
     ]
    }
   ],
   "source": [
    "f=open('杨氏.in','r')\n",
    "n=8\n",
    "r1=[0]*18\n",
    "r2=[0]*18\n",
    "r=[0]*18\n",
    "bb=[0]*18\n",
    "\n",
    "s=f.readline().split()\n",
    "L=float(s[0])/100\n",
    "l=float(s[1])/100\n",
    "D=float(s[2])/100\n",
    "g=9.7881\n",
    "m=1.0\n",
    "deltam=5e-3\n",
    "deltaL=5e-2/100\n",
    "deltaD=5e-2/100\n",
    "deltal=5e-2/100\n",
    "deltad=1e-3/1000\n",
    "deltab=5e-2/100\n",
    "for i in range(1,9):\n",
    "    print(\"$\",i,\".00$|\",end='')\n",
    "print()\n",
    "s=f.readline().split()\n",
    "for i in range(1,9):\n",
    "    r1[i]=float(s[i-1])\n",
    "    print(\"$\",format(r1[i],'.2f'),\"$|\",end='')\n",
    "print()\n",
    "s=f.readline().split()\n",
    "for i in range(1,9):\n",
    "    r2[i]=float(s[i-1])\n",
    "    print(\"$\",format(r2[i],'.2f'),\"$|\",end='')\n",
    "print()\n",
    "for i in range(1,9):\n",
    "    r[i]=(r1[i]+r2[i])*0.5\n",
    "    print(\"$\",format(r[i],'.2f'),\"$|\",end='')\n",
    "print()\n",
    "s=f.readline().split()\n",
    "dd=[0]*6\n",
    "d=0\n",
    "for i in range(6):\n",
    "    dd[i]=float(s[i])\n",
    "    d+=dd[i]\n",
    "    print(\"$\",format(dd[i],'.2f'),\"$|\",end='')\n",
    "print()\n",
    "d/=6\n",
    "print(\"d=\",format(d,'.4f'))\n",
    "d/=1000\n"
   ]
  },
  {
   "cell_type": "markdown",
   "metadata": {},
   "source": [
    "##### 逐差法"
   ]
  },
  {
   "cell_type": "code",
   "execution_count": 19,
   "metadata": {},
   "outputs": [
    {
     "name": "stdout",
     "output_type": "stream",
     "text": [
      "b= 0.6703\n",
      "E= 1.68269\\times10^{11}\n",
      "k= 0.0751\n",
      "deltaE= 1.26426\\times10^{10}\n"
     ]
    }
   ],
   "source": [
    "b=0\n",
    "for i in range(1,5):\n",
    "    b+=(r[i+4]-r[i])/16\n",
    "print(\"b=\",format(b,'.4f'))\n",
    "b/=100\n",
    "E=(8*m*g*L*D)/(math.pi*b*d*d*l)\n",
    "print(\"E=\",toMarkdown(E))\n",
    "\n",
    "k=((deltaD/D)**2+(deltaL/L)**2+(deltal/l)**2+(deltam/m)**2+(deltab/b)**2+(2*deltad/d)**2)**0.5\n",
    "print(\"k=\",format(k,'.4f'))\n",
    "print(\"deltaE=\",toMarkdown(E*k))\n"
   ]
  },
  {
   "cell_type": "markdown",
   "metadata": {},
   "source": [
    "##### 作图法"
   ]
  },
  {
   "cell_type": "code",
   "execution_count": 20,
   "metadata": {},
   "outputs": [
    {
     "name": "stdout",
     "output_type": "stream",
     "text": [
      "1.0866    0.6734\n"
     ]
    },
    {
     "data": {
      "image/png": "[encoded data removed]",
      "text/plain": [
       "<Figure size 640x480 with 1 Axes>"
      ]
     },
     "metadata": {},
     "output_type": "display_data"
    }
   ],
   "source": [
    "beta,apha= np.polyfit(range(1,9),r[1:9], 1)\n",
    "print(format(apha,'.4f'),'  ',format(beta,'.4f'))\n",
    "\n",
    "plt.scatter(range(1,9),r1[1:9],label='r1',color='black',marker=\"x\")\n",
    "plt.scatter(range(1,9),r2[1:9],label='r2',color='black',marker='*')\n",
    "plt.scatter(range(1,9),r[1:9],label='r_bar',color='black',marker='.')\n",
    "plt.plot(range(1,9),[apha+beta*i for i in range(1,9)], color='black', label='r的拟合线')\n",
    "plt.legend()\n",
    "plt.xlabel('砝码质量m/kg')\n",
    "plt.ylabel('标尺读数/cm')\n",
    "plt.title('标尺读数与所加质量的关系')\n",
    "plt.show()"
   ]
  },
  {
   "cell_type": "code",
   "execution_count": 21,
   "metadata": {},
   "outputs": [
    {
     "name": "stdout",
     "output_type": "stream",
     "text": [
      "b= 0.6734\n",
      "E= 1.67499\\times10^{11}\n",
      "k= 0.0748\n",
      "deltaE= 1.25281\\times10^{10}\n"
     ]
    }
   ],
   "source": [
    "b=beta\n",
    "print(\"b=\",format(b,'.4f'))\n",
    "b/=100\n",
    "E=(8*m*g*L*D)/(math.pi*b*d*d*l)\n",
    "print(\"E=\",toMarkdown(E))\n",
    "\n",
    "k=((deltaD/D)**2+(deltaL/L)**2+(deltal/l)**2+(deltam/m)**2+(deltab/b)**2+(2*deltad/d)**2)**0.5\n",
    "print(\"k=\",format(k,'.4f'))\n",
    "print(\"deltaE=\",toMarkdown(E*k))"
   ]
  },
  {
   "cell_type": "markdown",
   "metadata": {},
   "source": [
    "# 分光计\n",
    "##### 基础数据处理"
   ]
  },
  {
   "cell_type": "code",
   "execution_count": 22,
   "metadata": {},
   "outputs": [
    {
     "name": "stdout",
     "output_type": "stream",
     "text": [
      "|$ 0 $|$ 85 \\degree 35 '$|$ 265 \\degree 31 '$|$ 205 \\degree 33 '$|$ 25 \\degree 31 '$|$ 119 \\degree 59 '$|\n",
      "|$ 1 $|$ 95 \\degree 44 '$|$ 275 \\degree 41 '$|$ 215 \\degree 41 '$|$ 35 \\degree 40 '$|$ 119 \\degree 58 '$|\n",
      "|$ 2 $|$ 95 \\degree 43 '$|$ 275 \\degree 41 '$|$ 215 \\degree 40 '$|$ 35 \\degree 39 '$|$ 119 \\degree 57 '$|\n"
     ]
    }
   ],
   "source": [
    "f=open('分光.in','r')\n",
    "n=3\n",
    "a1=[[0 for i in range(3)] for j in range(n+1)]\n",
    "a2=[[0 for i in range(3)] for j in range(n+1)]\n",
    "a3=[[0 for i in range(3)] for j in range(n+1)]\n",
    "a4=[[0 for i in range(3)] for j in range(n+1)]\n",
    "a5=[[0 for i in range(3)] for j in range(n+1)]\n",
    "for i in range(0,3):\n",
    "    s=f.readline().split()\n",
    "    a1[0][i]=int(s[0])\n",
    "    a1[1][i]=int(s[1])\n",
    "    a2[0][i]=int(s[2])\n",
    "    a2[1][i]=int(s[3])\n",
    "    a3[0][i]=int(s[4])\n",
    "    a3[1][i]=int(s[5])\n",
    "    a4[0][i]=int(s[6])\n",
    "    a4[1][i]=int(s[7])\n",
    "    a5[0][i]=int(s[8])\n",
    "    a5[1][i]=int(s[9])\n",
    "    print(\"|$\",i,\"$|$\",a1[0][i],\"\\\\degree\",a1[1][i],\"\\'$|$\",\n",
    "          a2[0][i],\"\\\\degree\",a2[1][i],\"\\'$|$\",a3[0][i],\"\\\\degree\",a3[1][i],\"\\'$|$\",\n",
    "          a4[0][i],\"\\\\degree\",a4[1][i],\"\\'$|$\",a5[0][i],\"\\\\degree\",a5[1][i],\"\\'$|\")\n",
    "f.close()\n"
   ]
  },
  {
   "cell_type": "markdown",
   "metadata": {},
   "source": [
    "# 迈克尔逊干涉仪\n",
    "##### 基础数据处理"
   ]
  },
  {
   "cell_type": "code",
   "execution_count": 23,
   "metadata": {},
   "outputs": [
    {
     "name": "stdout",
     "output_type": "stream",
     "text": [
      "$ 53.19452 $|$ 53.17833 $|$ 53.16242 $|$ 53.14618 $|$ 53.13011 $|$ 53.11424 $|$ 53.09802 $|$ 53.08212 $|$ 53.06639 $|$ 53.05052 $|$ 53.03460 $|$ 53.01933 $|\n",
      "$ 0.09650 $|$ 0.09621 $|$ 0.09603 $|$ 0.09566 $|$ 0.09551 $|$ 0.09491 $|\n",
      "0.09650 +0.09621 +0.09603 +0.09566 +0.09551 +0.09491 +\n",
      "638.6888888888997\n"
     ]
    }
   ],
   "source": [
    "f=open('迈克尔.in','r')\n",
    "s=f.readline().split()\n",
    "a=[0]*12\n",
    "b=[0]*12\n",
    "ans=0\n",
    "for i in range(12):\n",
    "    a[i]=float(s[i])\n",
    "    print(\"$\",format(a[i],\".5f\"),\"$|\",end=\"\")\n",
    "print()\n",
    "for i in range(6):\n",
    "    b[i]=abs(a[i]-a[i+6])\n",
    "    print(\"$\",format(b[i],\".5f\"),\"$|\",end=\"\")\n",
    "    ans+=2*b[i]/(50*6*6)\n",
    "print()\n",
    "for i in range(6):\n",
    "    print(format(b[i],\".5f\"),'+',end='')\n",
    "print()\n",
    "print(ans*1e6)\n",
    "f.close()\n"
   ]
  },
  {
   "cell_type": "markdown",
   "metadata": {},
   "source": [
    "##### 计算不确定度"
   ]
  },
  {
   "cell_type": "code",
   "execution_count": 36,
   "metadata": {},
   "outputs": [
    {
     "name": "stdout",
     "output_type": "stream",
     "text": [
      "0.09580\n",
      "( 0.09650 - 0.09580 )^2+( 0.09621 - 0.09580 )^2+( 0.09603 - 0.09580 )^2+( 0.09566 - 0.09580 )^2+( 0.09551 - 0.09580 )^2+( 0.09491 - 0.09580 )^2+\n",
      "2.31426\\times10^{-4}\n",
      "7.07107\\times10^{-5}\n",
      "3.05178\\times10^{-4}\n",
      "305.1777728689519\n",
      "2.03452\\times10^{-6}\n",
      "2.0345184857930128\n",
      "0.9440347689803967\n"
     ]
    }
   ],
   "source": [
    "b_bar=sum(b)/6\n",
    "ua=0\n",
    "print(format(b_bar,\".5f\"))\n",
    "for i in range(6):\n",
    "    ua+=((b[i]-b_bar)**2)/(6*5)\n",
    "    print(\"(\",format(b[i],\".5f\"), \"-\", format(b_bar,\".5f\"), \")^2+\",end=\"\")\n",
    "ua=ua**0.5\n",
    "print()\n",
    "print(toMarkdown(ua))\n",
    "ub=(2*(0.00005**2))**0.5\n",
    "print(toMarkdown(ub))\n",
    "t=2.57\n",
    "k=1.65\n",
    "c=3**0.5\n",
    "u=(k*ua*ua+k*ub*ub/c)**0.5\n",
    "print(toMarkdown(u))\n",
    "print(u*1e6)\n",
    "\n",
    "print(toMarkdown(u*ans/b_bar))\n",
    "print(u*ans*1e6/b_bar)\n",
    "\n",
    "print((ans*1e6-632.8)/623.8*100)\n",
    "    \n",
    "\n"
   ]
  }
 ],
 "metadata": {
  "kernelspec": {
   "display_name": "base",
   "language": "python",
   "name": "python3"
  },
  "language_info": {
   "codemirror_mode": {
    "name": "ipython",
    "version": 3
   },
   "file_extension": ".py",
   "mimetype": "text/x-python",
   "name": "python",
   "nbconvert_exporter": "python",
   "pygments_lexer": "ipython3",
   "version": "3.12.7"
  }
 },
 "nbformat": 4,
 "nbformat_minor": 2
}
